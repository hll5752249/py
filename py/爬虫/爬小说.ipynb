{
 "cells": [
  {
   "cell_type": "code",
   "execution_count": 1,
   "metadata": {
    "scrolled": false
   },
   "outputs": [
    {
     "name": "stdout",
     "output_type": "stream",
     "text": [
      "圣墟，目录获取成功，共1301章\n",
      "\n",
      "/data/data/com.termux/files/home/py/爬虫/圣墟 目录已存在\n",
      "\n",
      "上次爬取到第1301章\n",
      "\n"
     ]
    }
   ],
   "source": [
    "import requests\n",
    "from bs4 import BeautifulSoup as bs\n",
    "import html5lib\n",
    "\n",
    "def get_book_index(url, headers):\n",
    "    r = requests.get(url, headers = headers)\n",
    "    soup = bs(r.text, 'html5lib')\n",
    "    BookName = soup.find(\"span\").text\n",
    "    BookIndex = soup.body.div.find_all('p')\n",
    "    print(\"{}，目录获取成功，共{}章\\n\".format(BookName, len(BookIndex)-1))\n",
    "    return [BookIndex, BookName]\n",
    "\n",
    "def get_book(href, headers):\n",
    "    import re\n",
    "    r1 = requests.get(href, headers)\n",
    "    soup1 = bs(r1.text, 'html5lib')\n",
    "    read = soup1.body.find_all('div')[1].text\n",
    "    print(soup1.body.div.next_sibling)\n",
    "    read = re.sub(\"[\\s\\a-z\\|\\{\\}\\』\\『]\", \"\", read, count = 0)\n",
    "    read.split(\"点此举报\")[1].split(\"加入书签\")[0].replace(\" \", \"\")\n",
    "    return read\n",
    "\n",
    "def mkdir(path):\n",
    "    import os\n",
    "    #移除所有空格\n",
    "    path.replace(' ','')\n",
    "    #移出末尾的/\n",
    "    path.rstrip('/')\n",
    "    #判断目录是否存在 \n",
    "    isExists = os.path.exists(path)\n",
    "    #如果目录不存在，则创建   \n",
    "    if not isExists:      \n",
    "        os.makedirs(path)        \n",
    "        #并提示已创建目录        \n",
    "        print(path, '创建成功\\n')\n",
    "        return 0\n",
    "    #否则提示该目录已存在   \n",
    "    else:     \n",
    "        print(path, '目录已存在\\n')\n",
    "        return find_index(path)\n",
    "        \n",
    "        \n",
    "def safe_file(path, data):\n",
    "    path.strip()\n",
    "    path.replace(' ','_')\n",
    "    f = open(path, 'w')\n",
    "    f.write(data)\n",
    "    f.close()\n",
    "    print(path.split('/')[-1], \"下载完成\\n\")\n",
    "\n",
    "def find_index(path):\n",
    "    import os\n",
    "    section_list = os.listdir(path)\n",
    "    [int(section.split('_')[0].strip('第章')) for section in section_list]\n",
    "    \n",
    "def find_index(path):\n",
    "    import os\n",
    "    section_list = os.listdir(path)\n",
    "    index_list = [int(section.split('_')[0].strip('第章')) for section in section_list]\n",
    "    max_index = max(index_list)\n",
    "    print(\"上次爬取到第{}章\\n\".format(max_index))\n",
    "    return max_index\n",
    "    \n",
    "url = \"https://m.qu.la/booklist/24868.html\"\n",
    "headers = {\"user-agent\":\"Mozilla/5.0 (Macintosh;Intel Mac OS X 10_7_0) AppleWebKit/535.11 (KH    TML, like Gecko) Chrome/17.0.963.56 Safari/53    5.11\"}\n",
    "book = get_book_index(url, headers)\n",
    "\n",
    "BookIndex = book[0]\n",
    "BookName = book[1]\n",
    "\n",
    "path =  \"/data/data/com.termux/files/home/py/爬虫/\" + str(BookName)\n",
    "start = mkdir(path) + 1\n",
    "if start <= len(BookIndex):\n",
    "    for i in range(start, len(BookIndex)):\n",
    "        total = i\n",
    "        section = '第{}章_{}'.format(i, BookIndex[i].text.split()[-1])\n",
    "        section.strip()\n",
    "        section.replace(' ', '_')    \n",
    "        href = \"https://m.qu.la/\" + BookIndex[i].a['href']\n",
    "        print(\"开始下载\", section)\n",
    "        data = get_book(href = href, headers = headers)\n",
    "        save_name = \"{}/{}.txt\".format(path, section)\n",
    "        safe_file(save_name, data)\n",
    "else:\n",
    "    print(\"已下载全部章节\")"
   ]
  },
  {
   "cell_type": "code",
   "execution_count": null,
   "metadata": {},
   "outputs": [],
   "source": []
  },
  {
   "cell_type": "code",
   "execution_count": null,
   "metadata": {},
   "outputs": [],
   "source": []
  }
 ],
 "metadata": {
  "kernelspec": {
   "display_name": "Python 3",
   "language": "python",
   "name": "python3"
  },
  "language_info": {
   "codemirror_mode": {
    "name": "ipython",
    "version": 3
   },
   "file_extension": ".py",
   "mimetype": "text/x-python",
   "name": "python",
   "nbconvert_exporter": "python",
   "pygments_lexer": "ipython3",
   "version": "3.7.1"
  }
 },
 "nbformat": 4,
 "nbformat_minor": 2
}
