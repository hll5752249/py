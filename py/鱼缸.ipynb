{
 "cells": [
  {
   "cell_type": "code",
   "execution_count": 1,
   "metadata": {
    "scrolled": true
   },
   "outputs": [],
   "source": [
    "'''\n",
    "鱼缸里有1只乌龟。\n",
    "小鱼数量超过10只，所有小鱼每分钟血量-1\n",
    "小虾数量超过25只，所有小虾每分钟血量-1\n",
    "'''\n",
    "import random\n",
    "#定义鱼缸类\n",
    "class Fish_tank:\n",
    "    def __init__(self):\n",
    "        #鱼缸大小\n",
    "        self.size = (600, 800)\n",
    "        #鱼缸里的乌龟、小鱼、虾米的数量\n",
    "        self.turtle_count = 1\n",
    "        self.fish_count = random.randint(2,8)\n",
    "        self.fish_list = []\n",
    "        self.shrimp_count = random.randint(5,15)\n",
    "        self.shrimp_list = []\n",
    "        #鱼缸里面活物总数\n",
    "        self.all_count = (self.turtle_count \n",
    "                     + self.fish_count\n",
    "                     + self.shrimp_count)\n",
    "    #生成活物实例\n",
    "    def create_all_fish(self):\n",
    "        self.turtle = Turtle()\n",
    "        self.turtle.turtle()\n",
    "        #小鱼\n",
    "        for fish_id in range(self.fish_count):\n",
    "            self.fish_list.append(Fish())\n",
    "            self.fish_list[fish_id].id = fish_id           \n",
    "            self.fish_list[fish_id].fish()\n",
    "            \n",
    "    #检查小鱼和小虾米的数量是否达到饱和数量,达到后将减血。\n",
    "    def check_count(self):\n",
    "        if len(self.fish_list) > 10:\n",
    "            for fish in self.ishf_list:\n",
    "                fish.hp -= 1\n",
    "        if len(self.shrimp_list) > 25:\n",
    "            for shrimp in self.shrimp:\n",
    "                shrimp.hp -= 1\n",
    "    \n",
    "        #小虾米\n",
    "        for shrimp_id in range(self.shrimp_count):\n",
    "            self.shrimp_list.append(Shrimp())\n",
    "            self.shrimp_list[shrimp_id].id = shrimp_id           \n",
    "            self.shrimp_list[shrimp_id].shrimp()\n",
    "class Fish_base:\n",
    "    #鱼初始化\n",
    "    def __init__(self, \n",
    "                 hp = 100, \n",
    "                 size = (4, 12),            \n",
    "                 speed = 1):\n",
    "        self.hp = hp\n",
    "        self.size = size\n",
    "        self.position = (random.randint(self.size[0]/2, fish_tank.size[0] - self.size[0]/2), \n",
    "                         random.randint(self.size[1]/2, fish_tank.size[1] - self.size[1]/2))\n",
    "        self.speed = speed\n",
    "        \n",
    "    def Die(self):\n",
    "        if self.hp == 0:\n",
    "            del(self)\n",
    "\n",
    "class Turtle(Fish_base):\n",
    "    def turtle(self):\n",
    "        self.hp = 300\n",
    "        self.size = (12,16)\n",
    "            \n",
    "class Fish(Fish_base):\n",
    "    def fish(self):\n",
    "        self.hp = 100\n",
    "        self.size = (6,10)\n",
    "        self.speed = 2\n",
    "\n",
    "class Shrimp(Fish_base):\n",
    "    def shrimp(self):\n",
    "        self.hp = 40\n",
    "        self.speed = 3\n",
    "\n",
    "fish_tank = Fish_tank()\n",
    "fish_tank.create_all_fish()\n"
   ]
  },
  {
   "cell_type": "code",
   "execution_count": 2,
   "metadata": {},
   "outputs": [
    {
     "data": {
      "text/plain": [
       "19"
      ]
     },
     "execution_count": 2,
     "metadata": {},
     "output_type": "execute_result"
    }
   ],
   "source": [
    "fish_tank.all_count"
   ]
  },
  {
   "cell_type": "code",
   "execution_count": 3,
   "metadata": {},
   "outputs": [
    {
     "name": "stdout",
     "output_type": "stream",
     "text": [
      "0 40 (509, 719)\n",
      "1 40 (447, 272)\n",
      "2 40 (593, 684)\n",
      "3 40 (591, 386)\n",
      "4 40 (55, 256)\n",
      "5 40 (49, 438)\n",
      "6 40 (59, 753)\n",
      "7 40 (207, 536)\n",
      "8 40 (391, 571)\n",
      "9 40 (449, 217)\n"
     ]
    }
   ],
   "source": [
    "for shrimp in fish_tank.shrimp_list:\n",
    "    print(shrimp.id, shrimp.hp, shrimp.position)"
   ]
  }
 ],
 "metadata": {
  "kernelspec": {
   "display_name": "Python 3",
   "language": "python",
   "name": "python3"
  },
  "language_info": {
   "codemirror_mode": {
    "name": "ipython",
    "version": 3
   },
   "file_extension": ".py",
   "mimetype": "text/x-python",
   "name": "python",
   "nbconvert_exporter": "python",
   "pygments_lexer": "ipython3",
   "version": "3.7.1"
  }
 },
 "nbformat": 4,
 "nbformat_minor": 2
}
